{
 "cells": [
  {
   "cell_type": "markdown",
   "id": "52a3d74a",
   "metadata": {},
   "source": [
    "* Make sure before running the example that your execution path is in this example directory.\n",
    "* (Use `!pwd` to check and `%cd` to adjust the path if needed)"
   ]
  },
  {
   "cell_type": "code",
   "execution_count": null,
   "id": "a459de23",
   "metadata": {},
   "outputs": [],
   "source": [
    "# clean up all files from the previous run\n",
    "!rm trajectory.dat\n",
    "!rm energy.dat\n",
    "!rm *.pyidx\n",
    "!rm relax_energy.dat\n",
    "!rm bonds*\n",
    "p=None"
   ]
  },
  {
   "cell_type": "markdown",
   "id": "58123c4a",
   "metadata": {},
   "source": [
    "## Let's have a look at the initial conf."
   ]
  },
  {
   "cell_type": "code",
   "execution_count": null,
   "id": "22ac36a3",
   "metadata": {},
   "outputs": [],
   "source": [
    "# all functions required to read a configuration using the new RyeReader\n",
    "from oxDNA_analysis_tools.UTILS.RyeReader import describe, get_confs, inbox\n",
    "# the function used to visualize a configuration in oxView\n",
    "from oxDNA_analysis_tools.UTILS.oxview import oxdna_conf\n",
    "\n",
    "top = \"./hairpin.top\"\n",
    "traj = \"./hairpin.conf\"\n",
    "input_file = \"./input\"\n",
    "# RyeReader uses indexing allows for random access in the trajectory\n",
    "top_info, traj_info = describe(top, traj)\n",
    "\n",
    "# This is the new way to read configurations, as it returns a list we need [0]\n",
    "# to access a single conf\n",
    "ref_conf = get_confs(top_info, traj_info, 0, 1)[0]\n",
    "# inbox the configuration\n",
    "ref_conf = inbox(ref_conf)\n",
    "\n",
    "# show an iframe displaying the configuration\n",
    "# inbox_settings = [\"None\", \"None\"] makes sure oxview does no post processing of the\n",
    "# loaded configuration\n",
    "oxdna_conf(top_info, ref_conf, inbox_settings=[\"None\",\"None\"])"
   ]
  },
  {
   "cell_type": "code",
   "execution_count": null,
   "id": "9b860a84-6e21-4997-9b94-d60c36659022",
   "metadata": {},
   "outputs": [],
   "source": [
    "# other way to do so if you don't plan on using the loaded conf\n",
    "# note this uses the default oxview inboxing and centering \n",
    "from oxDNA_analysis_tools.UTILS.oxview import from_path\n",
    "top = \"./hairpin.top\"\n",
    "traj = \"./hairpin.conf\"\n",
    "from_path(top, traj)"
   ]
  },
  {
   "cell_type": "markdown",
   "id": "f742a041",
   "metadata": {},
   "source": [
    "## Notes:\n",
    "* We see that our system is a small unrelaxed hairpin.\n",
    "\n",
    "## Next:\n",
    "* Next we will run a short relaxation simulation.\n",
    "* The simulation is run on a separate thread, so during the run it is possible to run the analysis cells down the book.\n",
    "* This also potentially allows to run more than one replica at a time."
   ]
  },
  {
   "cell_type": "code",
   "execution_count": null,
   "id": "19256a53",
   "metadata": {},
   "outputs": [],
   "source": [
    "import oxpy\n",
    "import multiprocessing\n",
    "# constant defining the number of simulation steps we run\n",
    "STEPS = 2000000\n",
    "INTERVAL = 10000\n",
    "dt = 0.003\n",
    "\n",
    "# helper function offloading the work to a new process\n",
    "def spawn(f, args = ()):\n",
    "    p = multiprocessing.Process(target=f, args= args )\n",
    "    p.start()\n",
    "    return p\n",
    "\n",
    "# one simulation instance\n",
    "# if you want to have multiple make sure the output files are different\n",
    "# resources used (like GPU's are different)  \n",
    "def relax_replica():\n",
    "    with oxpy.Context():\n",
    "        input = oxpy.InputFile()\n",
    "        input.init_from_filename(\"input\")\n",
    "        # all input parameters provided to oxDNA need to be strings \n",
    "        input[\"steps\"] = str(STEPS)\n",
    "        input[\"print_conf_interval\"] = str(INTERVAL)\n",
    "        input[\"print_energy_every\"] = str(INTERVAL)\n",
    "        input[\"dt\"] = str(dt)\n",
    "        # make sure our output is not overcrowded\n",
    "        input[\"no_stdout_energy\"] = \"true\"\n",
    "        # these settings turn a regular simulation into a relaxation one  \n",
    "        input[\"T\"] = \"10C\"\n",
    "        input[\"max_backbone_force\"] = \"5\"\n",
    "        input[\"max_backbone_force_far\"] = \"10\"\n",
    "        input[\"energy_file\"] = \"relax_energy.dat\"\n",
    "        # discard the relax data \n",
    "        input[\"trajectory\"] = \"/dev/null\"\n",
    "\n",
    "\n",
    "        # init the manager with the given input file\n",
    "        manager = oxpy.OxpyManager(input)\n",
    "        #run complete run's it till the number steps specified are reached \n",
    "        manager.run_complete()\n",
    "\n",
    "#make sure we don't have anything running\n",
    "try:\n",
    "    p.terminate()\n",
    "except:\n",
    "    pass\n",
    "# run a simulation and obtain a reference to the background process\n",
    "p = spawn(relax_replica)\n"
   ]
  },
  {
   "cell_type": "markdown",
   "id": "5626cfc6",
   "metadata": {},
   "source": [
    "## Monitor the energy during the relaxation run.\n",
    "* let's plot the energy \n",
    "* we run a MD relaxation simulation, so the file format is:\n",
    "`[time (steps)] [Total Energy] [Potential Energy] [Kinetic Energy]`\n",
    "* we'll use a red line to indicate complition\n",
    "* as we are looking at a hairpin which we will melt in further steps a `good` relaxed energy would be around -1\n",
    "    * note this is different from an origami relaxation where everything has to be paired and values around -1.45 are `good`.\n",
    "* all following cells can be reloaded multiple times during the running simulation to see progress"
   ]
  },
  {
   "cell_type": "code",
   "execution_count": null,
   "id": "e8cd9aad",
   "metadata": {},
   "outputs": [],
   "source": [
    "import pandas as pd\n",
    "import matplotlib.pyplot as plt\n",
    "df = pd.read_csv(\"relax_energy.dat\", delimiter=\"\\s+\",names=['time', 'U','P','K'])\n",
    "\n",
    "# make sure our figure is bigger\n",
    "plt.figure(figsize=(15,3)) \n",
    "# plot the energy\n",
    "plt.plot(df.time/dt,df.U)\n",
    "# and the line indicating the complete run\n",
    "plt.ylim([-2,1])\n",
    "plt.plot([STEPS,STEPS],[df.U.max(),df.U.min()-2], color=\"r\")\n",
    "plt.ylabel(\"Energy\")\n",
    "plt.xlabel(\"Steps\")\n",
    "# and the relaxed state line\n",
    "plt.plot([0,STEPS], [-1,-1], color=\"g\")\n",
    "print(\"Relaxation is running:\", p.is_alive())\n"
   ]
  },
  {
   "cell_type": "markdown",
   "id": "16e0938d",
   "metadata": {},
   "source": [
    "## Note:\n",
    "* it is easy to implement a relaxation run which will terminate the process after a desired energy value is reached\n",
    "* at any point in time we can interupt the run by calling `p.terminate()`"
   ]
  },
  {
   "cell_type": "markdown",
   "id": "e61b6be4",
   "metadata": {},
   "source": [
    "# Let's have a look on the relaxed last conf "
   ]
  },
  {
   "cell_type": "code",
   "execution_count": null,
   "id": "47e20c51",
   "metadata": {},
   "outputs": [],
   "source": [
    "#load and inbox\n",
    "ti, di = describe(top, \"./last_conf.dat\")\n",
    "conf = inbox(get_confs(ti,di, 0,1)[0])\n",
    "# display\n",
    "oxdna_conf(ti, conf, inbox_settings=[\"None\",\"None\"])"
   ]
  },
  {
   "cell_type": "markdown",
   "id": "02c087f0",
   "metadata": {},
   "source": [
    "## Now let's do a melting simulation\n",
    "* we know that @ 60.85C the hairpin will transition between a fully bonded state and fully melted"
   ]
  },
  {
   "cell_type": "code",
   "execution_count": null,
   "id": "2b2896a0",
   "metadata": {},
   "outputs": [],
   "source": [
    "STEPS = 60000000\n",
    "INTERVAL = 50000\n",
    "# define our boiler plate code to run the simulation\n",
    "def replica():\n",
    "    with oxpy.Context():\n",
    "        input = oxpy.InputFile()\n",
    "        input.init_from_filename(\"input\")\n",
    "        # all input parameters provided to oxDNA need to be strings \n",
    "        input[\"conf_file\"] = \"last_conf.dat\"\n",
    "        input[\"steps\"] = str(STEPS)\n",
    "        input[\"print_conf_interval\"] = str(INTERVAL)\n",
    "        input[\"print_energy_every\"] = str(INTERVAL)\n",
    "        input[\"dt\"] = str(dt)\n",
    "        # make sure our output is not overcrowded\n",
    "        input[\"no_stdout_energy\"] = \"true\"\n",
    "        \n",
    "        # init the manager with the given input file\n",
    "        manager = oxpy.OxpyManager(input)\n",
    "        #run complete run's it till the number steps specified are reached \n",
    "        manager.run_complete()\n",
    "\n",
    "#make sure we don't have anything running\n",
    "try:\n",
    "    p.terminate()\n",
    "except:\n",
    "    pass\n",
    "#note that for more than one replica running you will have to change the guard code \n",
    "spawn(replica)"
   ]
  },
  {
   "cell_type": "markdown",
   "id": "9a678e84",
   "metadata": {},
   "source": [
    "## we will monitor the run in almost the same way as before\n",
    "* Energy ~ -1 corresponds to open structure blue line\n",
    "* Energe ~ -1.2 is a fully bonded hairpin green line\n",
    "* Total steps - red line\n",
    "* the visualization is the last conf with computed bond energy per nucleotide"
   ]
  },
  {
   "cell_type": "code",
   "execution_count": null,
   "id": "ea935dd3",
   "metadata": {},
   "outputs": [],
   "source": [
    "import pandas as pd\n",
    "import matplotlib.pyplot as plt\n",
    "df = pd.read_csv(\"energy.dat\", delimiter=\"\\s+\",names=['time', 'U','P','K'])\n",
    "\n",
    "# make sure our figure is bigger\n",
    "plt.figure(figsize=(15,3)) \n",
    "# plot the energy\n",
    "plt.plot(df.time/dt,df.U)\n",
    "# and the line indicating the complete run\n",
    "plt.ylim([-1.5,0])\n",
    "plt.plot([STEPS,STEPS],[df.U.max(),df.U.min()-2], color=\"r\")\n",
    "plt.ylabel(\"Energy\")\n",
    "plt.xlabel(\"Steps\")\n",
    "# and the relaxed state line\n",
    "plt.plot([0,STEPS], [-1,-1], color=\"b\")\n",
    "plt.plot([0,STEPS], [-1.2,-1.2], color=\"g\")\n",
    "print(\"Simulation is running:\", p.is_alive())\n",
    "plt.show()\n",
    "\n",
    "\n",
    "#load last conf\n",
    "ti, di = describe(top, \"./last_conf.dat\")\n",
    "conf = get_confs(ti,di, 0,1)[0]\n",
    "print(\"Last configuration is:\")\n",
    "\n",
    "#produce the hydrogen bond overlay\n",
    "!oat output_bonds -v bonds -p 2 input last_conf.dat\n",
    "\n",
    "from json import loads\n",
    "with open(\"bonds_Total.json\") as file:\n",
    "    overlay = loads(file.read())\n",
    "\n",
    "# display\n",
    "oxdna_conf(ti, conf, overlay=overlay)"
   ]
  }
 ],
 "metadata": {
  "kernelspec": {
   "display_name": "Python 3 (ipykernel)",
   "language": "python",
   "name": "python3"
  },
  "language_info": {
   "codemirror_mode": {
    "name": "ipython",
    "version": 3
   },
   "file_extension": ".py",
   "mimetype": "text/x-python",
   "name": "python",
   "nbconvert_exporter": "python",
   "pygments_lexer": "ipython3",
   "version": "3.9.7"
  }
 },
 "nbformat": 4,
 "nbformat_minor": 5
}
