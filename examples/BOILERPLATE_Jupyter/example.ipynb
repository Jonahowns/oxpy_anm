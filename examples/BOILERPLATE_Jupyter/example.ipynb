{
 "cells": [
  {
   "cell_type": "code",
   "execution_count": null,
   "id": "5c4eacb3-ab95-4562-949e-cfb33c026dfe",
   "metadata": {},
   "outputs": [],
   "source": [
    "# visualisation library\n",
    "from oxDNA_analysis_tools.UTILS.oxview import from_path\n",
    "# boilerplate code to setup and monitor simulations\n",
    "from oxDNA_analysis_tools.UTILS.boilerplate import setup_simulation,\\\n",
    "get_default_input,\\\n",
    "Simulation\n",
    "# get default settings for a CUDA simulation\n",
    "parameters = get_default_input()\n",
    "# setup sequence dependence\n",
    "parameters[\"use_average_seq\"] = \"no\"\n",
    "parameters[\"seq_dep_file\"] = \"../../oxDNA2_sequence_dependent_parameters.txt\"\n",
    "# setup simulation\n",
    "# we will simulate the 75 degree layered tile from\n",
    "# https://doi.org/10.1021/jacs.8b07180\n",
    "input_file = setup_simulation(\"./75deg.top\", # topology\n",
    "\"./75deg.dat\", # starting configuraiton\n",
    "\"./simulation\", # output path\n",
    "parameters, # simulation parameters\n",
    "kill_out_dir = True)\n",
    "# create a simulation class\n",
    "s = Simulation(input_file)\n",
    "# view initial configuration\n",
    "s.view_init()\n",
    "# run the simulation\n",
    "s.run()"
   ]
  },
  {
   "cell_type": "code",
   "execution_count": null,
   "id": "4ee16753-2392-43bf-a8b9-637504c660c3",
   "metadata": {},
   "outputs": [],
   "source": [
    "# visualize simulation progress\n",
    "s.plot_energy()"
   ]
  },
  {
   "cell_type": "code",
   "execution_count": null,
   "id": "7bf14d93-6940-4a62-9258-4906ac8d6ded",
   "metadata": {},
   "outputs": [],
   "source": [
    "# creates a oxview window allowing to browse throught the trajectory\n",
    "s.view_last()"
   ]
  },
  {
   "cell_type": "code",
   "execution_count": null,
   "id": "d26b2d87-3eaa-4e58-8b2c-ea22460b9bdc",
   "metadata": {},
   "outputs": [],
   "source": [
    "s.terminate()"
   ]
  },
  {
   "cell_type": "code",
   "execution_count": null,
   "id": "62c9330a-73cb-4f07-baec-35f555408478",
   "metadata": {},
   "outputs": [],
   "source": [
    "!oat mean ./simulation/trajectory.dat -o ./simulation/mean.dat -d\\\n",
    "./simulation/devs.json"
   ]
  },
  {
   "cell_type": "code",
   "execution_count": null,
   "id": "c44f832b-ff5e-4fc0-9966-2cbc00487359",
   "metadata": {
    "scrolled": true
   },
   "outputs": [],
   "source": [
    "from_path(\"./simulation/75deg.top\",\n",
    "\"./simulation/mean.dat\",\n",
    "\"./simulation/devs.json\")"
   ]
  }
 ],
 "metadata": {
  "kernelspec": {
   "display_name": "Python 3 (ipykernel)",
   "language": "python",
   "name": "python3"
  },
  "language_info": {
   "codemirror_mode": {
    "name": "ipython",
    "version": 3
   },
   "file_extension": ".py",
   "mimetype": "text/x-python",
   "name": "python",
   "nbconvert_exporter": "python",
   "pygments_lexer": "ipython3",
   "version": "3.10.11"
  }
 },
 "nbformat": 4,
 "nbformat_minor": 5
}
